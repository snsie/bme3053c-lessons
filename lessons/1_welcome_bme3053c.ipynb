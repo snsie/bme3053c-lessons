{
  "cells": [
    {
      "cell_type": "markdown",
      "metadata": {
        "id": "zxMSBUaZoKCY"
      },
      "source": [
        "#BME3053C - Computer Applications for BME\n",
        "\n",
        "<br/>\n",
        "\n",
        "<h1 align=\"center\">Welcome and Course Outline</h1>\n",
        "\n",
        "---\n",
        "\n",
        "<center><h2>Lesson 01</h2></center>\n",
        "\n",
        "\n",
        "[![Open In Colab](https://colab.research.google.com/assets/colab-badge.svg)](https://colab.research.google.com/github/uf-bme/bme3053c-lessons/blob/main/1_welcome_bme3053c.ipynb)"
      ]
    },
    {
      "cell_type": "markdown",
      "metadata": {
        "id": "k2de57kqmXBm"
      },
      "source": [
        "###Instructor: XXX\n",
        "* XXX\n",
        "\n",
        "---\n",
        "\n",
        "##Supervised Teaching Students\n",
        "\n",
        "\n",
        "* XXX\n",
        "  * XXX\n",
        "\n",
        "* XXX\n",
        "  * XXX\n",
        "\n",
        "---\n",
        "\n",
        "##Learning Assistant\n",
        "* XXX\n"
      ]
    },
    {
      "cell_type": "markdown",
      "metadata": {
        "id": "tRmK01ggqJLo"
      },
      "source": [
        "#What to expect from your LA\n",
        "\n",
        "\n",
        "* LAs are near-peers, who\n",
        "  * have passed this course with strong academic standing and\n",
        "  * are trained in collaborative learning strategies to improve your learning experience. Ask them how to study/learn/navigate material\n",
        "  * are not a TA and therefore don’t participate in direct instruction or grading.\n",
        "* Your LA will\n",
        "  * Help you develop better learning techniques; essentially help you learn how to learn better\n",
        "  * Help you navigate and digest new course material\n",
        "  * Guide you, through a series of questions, to the answer.\n",
        "* Your LA will NOT\n",
        "  * Be your personal academic tutor, i.e.: they will NOT explain content.\n",
        "  * Provide you with final HW/quiz/exam answers\n",
        "  * Grade your assignments or discuss grades/rubrics\n"
      ]
    },
    {
      "cell_type": "markdown",
      "metadata": {
        "id": "mUeYwV6zqrF1"
      },
      "source": [
        "#How to interact with your LA\n",
        "\n",
        "* Your LA is a great resource for course-specific guidance and support.\n",
        "* Reach out when you feel confused, overwhelmed or need guidance about where to start or how to deal with a problem.\n",
        "* Don’t ask the LA for direct answers or solutions.\n",
        "* Don’t try to interrogate the LA to learn about exam/HW/quiz details.\n",
        "* Your LA is a fellow BME student. Be respectful of their time.\n",
        "* Never discuss grading issues with your LA.\n"
      ]
    },
    {
      "cell_type": "markdown",
      "metadata": {
        "id": "aHqy8xGWbW_o"
      },
      "source": [
        "#Seeking Help\n",
        "\n",
        "* Questions should be sent to STs and LA\n",
        "* If not resolved, then contact the instructor.\n",
        "* All communication should happen through Canvas and the GitHub Classroom\n"
      ]
    },
    {
      "cell_type": "markdown",
      "metadata": {
        "id": "jGtVR3rOcPPd"
      },
      "source": [
        "# Get to Know Each Other!\n",
        "\n",
        "* Please upload a profile photo on Canvas\n",
        "* Participate in class discussions\n",
        "* Bring your laptops to follow along with each lesson\n"
      ]
    },
    {
      "cell_type": "markdown",
      "metadata": {
        "id": "IEFPYqVjfAA1"
      },
      "source": [
        "#Examples of Computer Applications in BME\n",
        "\n",
        "* Personalized Medicine:\n",
        "* Monitor\n",
        "Medical Data Analysis:\n",
        "Monitor patient health autonomously\n",
        "Analyze medical images to diagnose diseases,\n",
        "Bioinformatics:\n",
        "test\n"
      ]
    },
    {
      "cell_type": "markdown",
      "metadata": {
        "id": "3kRHN70Go-dz"
      },
      "source": [
        "##Resources used for this lesson:\n",
        "\n",
        "1. [Backpropagation Example](https://mattmazur.com/2015/03/17/a-step-by-step-backpropagation-example/)"
      ]
    },
    {
      "cell_type": "markdown",
      "metadata": {
        "id": "cG5HsTW21yOi"
      },
      "source": [
        "<center><img src='https://github.com/snsie/ai-webdev/blob/main/images/matt_network_numbered.png?raw=true'/></center>\n",
        "\n",
        "\n",
        "<center><h2>Parameterized Network</h2></center>\n",
        "\n",
        "\n",
        "---\n",
        "\n"
      ]
    },
    {
      "cell_type": "code",
      "execution_count": null,
      "metadata": {
        "id": "ZVmJgs4Hv77H"
      },
      "outputs": [],
      "source": [
        "import numpy as np\n",
        "import matplotlib.pyplot as plt"
      ]
    },
    {
      "cell_type": "markdown",
      "metadata": {
        "id": "y9oUQdHtGox_"
      },
      "source": [
        "<br/>\n",
        "<h3>\n",
        "\\begin{align}\n",
        "\\text{Inputs: }\n",
        "\\left[\n",
        "\\begin{matrix}\n",
        "i_1 & i_2\n",
        "\\end{matrix}\n",
        "\\right]\n",
        "=\n",
        "\\left[\n",
        "\\begin{matrix}\n",
        "0.05 & 0.10\n",
        "\\end{matrix}\n",
        "\\right]\n",
        "\\end{align}\n",
        "</h3>\n",
        "\n",
        "<br/>\n",
        "\n",
        "<h3>\n",
        "\\begin{align}\n",
        "\\text{Outputs: }\n",
        "\\left[\n",
        "\\begin{matrix}\n",
        "o_1 & o_2\n",
        "\\end{matrix}\n",
        "\\right]\n",
        "=\n",
        "\\left[\n",
        "\\begin{matrix}\n",
        "0.01 & 0.99\n",
        "\\end{matrix}\n",
        "\\right]\n",
        "\\end{align}\n",
        "</h3>\n",
        "\n",
        "<br/>\n",
        "\n",
        "<h3>\n",
        "\\begin{align}\n",
        "\\text{Learning Rate: } 0.5\n",
        "\\end{align}\n",
        "</h3>\n",
        "\n",
        "<br/>"
      ]
    },
    {
      "cell_type": "code",
      "execution_count": null,
      "metadata": {
        "id": "YBmMGvnrv_70"
      },
      "outputs": [],
      "source": [
        "# create inputs array\n",
        "inputArr=[0.05,0.1]\n",
        "\n",
        "# create outputs array\n",
        "outputArr=[0.01,0.99]\n",
        "\n",
        "# create learning rate\n",
        "lr=0.5"
      ]
    },
    {
      "cell_type": "markdown",
      "metadata": {
        "id": "U73jW5r4YrBj"
      },
      "source": [
        "\n",
        "<br/>\n",
        "\n",
        "<h3>\n",
        "\\begin{align}\n",
        "\\text{Weights to Hidden Layer: }\n",
        "\\left[\n",
        "\\begin{matrix}\n",
        "w_1 & w_3 \\\\\n",
        "w_2 & w_4 \\\\\n",
        "w_{h_1} & w_{h_2}\n",
        "\\end{matrix}\n",
        "\\right]\n",
        "=\n",
        "\\left[\n",
        "\\begin{matrix}\n",
        "0.15 & 0.25 \\\\\n",
        "0.2 & 0.3 \\\\\n",
        "0.35 & 0.35\n",
        "\\end{matrix}\n",
        "\\right]\n",
        "\\end{align}\n",
        "</h3>\n",
        "\n",
        "<br/>\n",
        "\n",
        "<h3>\n",
        "\\begin{align}\n",
        "\\text{Weights to Output Layer: }\n",
        "\\left[\n",
        "\\begin{matrix}\n",
        "w_5 & w_7 \\\\\n",
        "w_6 & w_8 \\\\\n",
        "w_{h_1} & w_{h_2}\n",
        "\\end{matrix}\n",
        "\\right]\n",
        "=\n",
        "\\left[\n",
        "\\begin{matrix}\n",
        "0.4 & 0.5 \\\\\n",
        "0.45 & 0.55 \\\\\n",
        "0.6 & 0.6\n",
        "\\end{matrix}\n",
        "\\right]\n",
        "\\end{align}\n",
        "</h3>\n",
        "\n",
        "<br/>\n"
      ]
    },
    {
      "cell_type": "code",
      "execution_count": null,
      "metadata": {
        "colab": {
          "base_uri": "https://localhost:8080/"
        },
        "id": "no2FMpTBZVxL",
        "outputId": "2d7aef52-2e9f-48c7-ecd4-bc07bbdf8540"
      },
      "outputs": [
        {
          "name": "stdout",
          "output_type": "stream",
          "text": [
            "[[0.4  0.5 ]\n",
            " [0.45 0.55]\n",
            " [0.6  0.6 ]]\n"
          ]
        }
      ],
      "source": [
        "# create input -> hidden layer weight matrix\n",
        "weightsToHl=np.array([[0.15,0.25],[0.2,0.3],[0.35,0.35]])\n",
        "\n",
        "# create hidden layer -> output layer weight matrix\n",
        "weightsToOl=np.array([[0.4,0.5],[0.45,0.55],[0.6,0.6]])\n",
        "print(weightsToOl)\n"
      ]
    },
    {
      "cell_type": "markdown",
      "metadata": {
        "id": "Avn5uUMX-ocX"
      },
      "source": [
        "#Derivatives provide the slope of a function at any point"
      ]
    },
    {
      "cell_type": "code",
      "execution_count": null,
      "metadata": {
        "colab": {
          "base_uri": "https://localhost:8080/",
          "height": 265
        },
        "id": "sqcA5hC_5IbU",
        "outputId": "f768b994-bbe7-4168-d48b-e9f9afdf34ef"
      },
      "outputs": [
        {
          "data": {
            "image/png": "[encoded data removed]",
            "text/plain": [
              "<Figure size 432x288 with 1 Axes>"
            ]
          },
          "metadata": {
            "needs_background": "light"
          },
          "output_type": "display_data"
        }
      ],
      "source": [
        "def exFn(x):\n",
        "  return np.cos(x)\n",
        "\n",
        "def exFnDer(x):\n",
        "  return -np.sin(x)\n",
        "\n",
        "def plotFnAndDer(fn,fnDer):\n",
        "  x=np.linspace(-np.pi,np.pi,100)\n",
        "  y=[]\n",
        "  yDer=[]\n",
        "  for currX in x:\n",
        "    y.append(fn(currX))\n",
        "    yDer.append(fnDer(currX))\n",
        "  plt.plot(x,y,label='fn')\n",
        "  plt.plot(x,yDer,label='fnDer')\n",
        "  plt.grid()\n",
        "  plt.legend()\n",
        "  plt.show()\n",
        "plotFnAndDer(exFn,exFnDer)"
      ]
    },
    {
      "cell_type": "markdown",
      "metadata": {
        "id": "kPh0LIK2a1ZV"
      },
      "source": [
        "<h2 align='center'>Sigmoid Activation Function</h2>\n",
        "<h3>\n",
        "$$\n",
        "\\large f(x)=\\frac{1}{1+e^{-x}}\n",
        "$$\n",
        "</h3>\n",
        "\n",
        "<br/>\n",
        "\n",
        "---\n",
        "\n",
        "<br/>\n",
        "\n",
        "\n",
        "<h2 align='center'>Sigmoid Derivative</h2>\n",
        "\n",
        "<br/>\n",
        "<h3 align='left'><i>chain rule</i>:</h3>\n",
        "<h4>\n",
        "\\begin{align}\n",
        "& \\large f'(x)= f'(g) \\cdot g'(x) \\\\\n",
        "\\end{align}\n",
        "</h4>\n",
        "\n",
        "\n",
        "<br/>\n",
        "<h3 align='left'><i>quotient rule</i>:</h3>\n",
        "<h4>\n",
        "\\begin{align}\n",
        "& \\large f(x)=  \\frac{g(x)}{h(x)} \\\\\n",
        "\\\\\n",
        "& \\large  f'(x) = \\frac{g'(x)h(x)-h'(x)g(x)}{h(x)^2}\n",
        "\\end{align}\n",
        "</h4>\n",
        "\n",
        "<br/>\n",
        "\n",
        "<h3 align='left'><i>applied to sigmoid</i>:</h3>\n",
        "<h4>\n",
        "\\begin{align}\n",
        "& \\large f(x) =  \\frac{g(x)}{h(x)}  \\ \\rightarrow \\ g(x)=1 \\ , \\ h(x) = 1+e^{-x}\n",
        "\\end{align}\n",
        "</h4>\n",
        "<br/>\n",
        "<h4>\n",
        "\\begin{align}\n",
        "& \\large g'(x) = 0 \\\\\n",
        "& \\large h'(x) = 0 + (-1) \\cdot e^{-x} = -e^{-x} \\scriptsize \\text{ (via chain rule)} \\\\\n",
        "\\end{align}\n",
        "</h4>\n",
        "<br/>\n",
        "<h4>\n",
        "\\begin{align}\n",
        "\\large f'(x) &= \\frac{0 \\cdot (1+e^{-x})-(-e^{-x}) \\cdot 1}{\\left(1+e^{-x}\\right)^2} \\\\\n",
        "\\\\\n",
        "\\large  &= \\frac{e^{-x}}{ (1+e^{-x})^2} \\\\\n",
        "\\\\\n",
        "\\large  &= \\frac{1 \\cdot e^{-x}}{ (1+e^{-x})^2} \\\\\n",
        "\\\\\n",
        "\\large &= \\frac{1}{1+e^{-x}} \\cdot  \\frac{e^{-x}}{1+e^{-x}} \\\\\n",
        "\\\\\n",
        "\\large &= \\frac{1}{1+e^{-x}} \\cdot  \\frac{1+e^{-x} - 1 }{1+e^{-x}} \\\\\n",
        "\\\\\n",
        "\\large &= \\frac{1}{1+e^{-x}} \\cdot \\left( \\frac{1+e^{-x}}{1+e^{-x}} - \\frac{1 }{1+e^{-x}} \\right)\\\\\n",
        "\\\\\n",
        "\\large &= \\frac{1}{(1+e^{-x})} \\cdot \\left( 1 - \\frac{1 }{1+e^{-x}} \\right) \\\\\n",
        "\\\\\n",
        "\\large &= f(x) \\cdot (1-f(x)) \\\\\n",
        "\\end{align}\n",
        "</h4>\n",
        "\n",
        "\n",
        "\n",
        "\n",
        "\n"
      ]
    },
    {
      "cell_type": "code",
      "execution_count": null,
      "metadata": {
        "colab": {
          "base_uri": "https://localhost:8080/"
        },
        "id": "jKoMQHQfa5uc",
        "outputId": "610a8690-fdc7-4904-d644-bccb08379be1"
      },
      "outputs": [
        {
          "data": {
            "text/plain": [
              "0.9525741268224334"
            ]
          },
          "execution_count": 27,
          "metadata": {},
          "output_type": "execute_result"
        }
      ],
      "source": [
        "# create the sigmoid activation function\n",
        "def sigmoid(x,derivative=False):\n",
        "  output = 1/(1+np.exp(-x))\n",
        "  if derivative:\n",
        "    return output*(1-output)\n",
        "  return output\n",
        "\n",
        "sigmoid(3)"
      ]
    },
    {
      "cell_type": "markdown",
      "metadata": {
        "id": "7EWjWOI03WS0"
      },
      "source": [
        "<h1 align=\"center\">Forward Pass</h1>\n",
        "\n",
        "<br/>\n",
        "\n",
        "---"
      ]
    },
    {
      "cell_type": "markdown",
      "metadata": {
        "id": "eg7HJB4ytvps"
      },
      "source": [
        "<h2 align='center'>Hidden Layer Outputs</h2>\n",
        "\n",
        "<br/>\n",
        "\n",
        "<h3>\n",
        "\\begin{align}\n",
        "\\left[\n",
        "\\begin{matrix}\n",
        "h_{1_{net}} & h_{2_{net}}\n",
        "\\end{matrix}\n",
        "\\right]\n",
        "=\n",
        "\\left[\n",
        "\\begin{matrix}\n",
        "i_1 & i_2 & b_1\n",
        "\\end{matrix}\n",
        "\\right]\n",
        "\\cdot\n",
        "\\left[\n",
        "\\begin{matrix}\n",
        "w_1 & w_3 \\\\\n",
        "w_2 & w_4 \\\\\n",
        "w_{bh_1} & w_{bh_2}\n",
        "\\end{matrix}\n",
        "\\right]\n",
        "\\end{align}\n",
        "</h3>\n",
        "\n",
        "<br/>\n",
        "\n",
        "<h3>\n",
        "\\begin{align}\n",
        "\\left[\n",
        "\\begin{matrix}\n",
        "h_{1_{out}} & h_{2_{out}}\n",
        "\\end{matrix}\n",
        "\\right]\n",
        "=\n",
        "\\left[\n",
        "\\begin{matrix}\n",
        "f(h_{1_{net}}) & f(h_{2_{net}})\n",
        "\\end{matrix}\n",
        "\\right]\n",
        "\\end{align}\n",
        "</h3>\n",
        "\n",
        "<br/>\n",
        "\n",
        "---"
      ]
    },
    {
      "cell_type": "markdown",
      "metadata": {
        "id": "9Oc8_V4yFGul"
      },
      "source": [
        "<h3>\n",
        "$$ h_{1_{net}} = i_1 w_1 + i_2 w_2 + b_1 w_{bh_1} $$\n",
        "</h3>\n",
        "<h3>\n",
        "$$ h_{2_{net}} = i_1 w_3 + i_2 w_4 + b_1 w_{bh_2} $$\n",
        "</h3>\n",
        "<br/>\n",
        "<h4>$$ h_1 = h_{1_{out}} = f(h_{1_{net}}) = f(i_1 w_1 + i_2 w_2 + b_1 w_{bh_1}) $$</h4>\n",
        "<h4>$$ h_2 = h_{2_{out}} = f(h_{2_{net}}) = f(i_1 w_3 + i_2 w_4 + b_1 w_{bh_2}) $$</h4>"
      ]
    },
    {
      "cell_type": "code",
      "execution_count": null,
      "metadata": {
        "colab": {
          "base_uri": "https://localhost:8080/"
        },
        "id": "gIpnSoYBrVc3",
        "outputId": "fc99f8e3-fb4d-43c9-fb2f-3d9bcab0908c"
      },
      "outputs": [
        {
          "name": "stdout",
          "output_type": "stream",
          "text": [
            "[0.3775 0.3925]\n"
          ]
        }
      ],
      "source": [
        "# create a function to calculate the hidden layer outputs\n",
        "\n",
        "def defHlNet(inputs=inputArr,weightsToHl=weightsToHl):\n",
        "  inputsWithBias=np.array([*inputs,1])\n",
        "  # print(inputsWithBias)\n",
        "  return inputsWithBias @ weightsToHl\n",
        "\n",
        "test=defHlNet()\n",
        "print(test)"
      ]
    },
    {
      "cell_type": "markdown",
      "metadata": {
        "id": "Qw7w7dS4BqNL"
      },
      "source": [
        "<h2 align='center'>Output Layer Outputs</h2>\n",
        "<br/>\n",
        "\n",
        "<h3>\n",
        "$$\n",
        "\\left[ \\begin{matrix} o_{1_{net}} & o_{2_{net}} \\end{matrix} \\right]\n",
        "=\n",
        "\\left[ \\begin{matrix} h_1 & h_2 & b \\end{matrix} \\right]\n",
        "\\cdot\n",
        "\\left[ \\begin{matrix} w_5 & w_7 \\\\ w_6 & w_8 \\\\ w_{bo_1} & w_{bo_2} \\end{matrix} \\right]\n",
        "$$\n",
        "</h3>\n",
        "\n",
        "<h3>\n",
        "$$\n",
        "\\left[ \\begin{matrix} o_{1_{out}} & o_{2_{out}} \\end{matrix} \\right]\n",
        "=\n",
        "\\left[ \\begin{matrix} f(o_{1_{net}}) & f(o_{2_{net}}) \\end{matrix} \\right]\n",
        "$$\n",
        "</h3>\n",
        "\n",
        "<br/>\n",
        "\n",
        "---"
      ]
    },
    {
      "cell_type": "markdown",
      "metadata": {
        "id": "gjyxj9tXmhWQ"
      },
      "source": [
        "<h3>\n",
        "$$ o_{1_{net}} = h_1 w_5 + h_2 w_6 + b_2 w_{bo_1} $$\n",
        "</h3>\n",
        "<h4>$$ o_1 = o_{1_{out}} = g(o_{1_{net}}) = g(h_1 w_5 + h_2 w_6 + b_2 w_{bo_1}) $$</h4>\n",
        "\n",
        "<h5>$$ o_1 = g \\begin{pmatrix}f(i_1 w_1 + i_2 w_2 + b_1 w_{bh_1}) w_5 \\ + \\ \\\\\n",
        " f(i_1 w_3 + i_2 w_4 + b_1 w_{bh_2}) w_6 \\ + \\ \\\\\n",
        " b_2 w_{bo_1} \\end{pmatrix} $$</h5>\n",
        "<br/>\n",
        "\n",
        "---"
      ]
    },
    {
      "cell_type": "markdown",
      "metadata": {
        "id": "6qwuMOV7m3fq"
      },
      "source": [
        "<h3>\n",
        "$$ o_{2_{net}} = h_1 w_7 + h_2 w_8 + b_2 w_{bo_2} $$\n",
        "</h3>\n",
        "\n",
        "<h4>$$ o_2 = o_{2_{out}} = g(o_{2_{net}}) = g(h_1 w_7 + h_2 w_8 + b_2 w_{bo_2}) $$</h4>\n",
        "\n",
        "<h5>\n",
        "\\begin{align}\n",
        "o_1 = g \\begin{pmatrix}\n",
        "f(i_1 w_1 + i_2 w_2 + b_1 w_{bh_1}) w_7 \\ + \\ \\\\\n",
        "f(i_1 w_3 + i_2 w_4 + b_1 w_{bh_2}) w_8 \\ + \\ \\\\\n",
        "b_2 w_{bo_2} \\\\\n",
        "\\end{pmatrix}\n",
        "\\end{align}\n",
        "</h5>"
      ]
    },
    {
      "cell_type": "code",
      "execution_count": null,
      "metadata": {
        "id": "GCa4F-fFnMwm"
      },
      "outputs": [],
      "source": [
        "# create a function to calculate the outputs of the network\n"
      ]
    },
    {
      "cell_type": "code",
      "execution_count": null,
      "metadata": {
        "id": "96p-fmth7Njn"
      },
      "outputs": [],
      "source": [
        "# combine the forward pass functions to create a reusable class\n"
      ]
    },
    {
      "cell_type": "markdown",
      "metadata": {
        "id": "1EfVQScg3n6x"
      },
      "source": [
        "<h1 align=\"center\">Backward Pass</h1>\n",
        "\n",
        "<br/>\n",
        "\n",
        "---"
      ]
    },
    {
      "cell_type": "markdown",
      "metadata": {
        "id": "ss57opkgFhzD"
      },
      "source": [
        "<h3 align='center'>using the chain rule again:</h3>\n",
        "<h4 align=\"center\">\n",
        "\\begin{gather}\n",
        "\\large f'(x)= f' \\left( g(x) \\right) \\cdot g'(x) \\\\\n",
        "\\large || \\\\\n",
        "\\frac{\\partial f}{\\partial x}=\\frac{\\partial f}{\\partial g}\\frac{\\partial g}{\\partial x} \\\\\n",
        "\\end{gather}\n",
        "</h4>\n",
        "\n",
        "<br/>\n",
        "\n",
        "<center><img src='https://github.com/snsie/ai-webdev/blob/main/images/matt_backward_output_node.png?raw=true'/></center>\n",
        "\n",
        "<br/>\n",
        "\n",
        "---\n",
        "\n",
        "<br/>\n",
        "\n",
        "<center><img src='https://github.com/snsie/ai-webdev/blob/main/images/matt_backward_network.png?raw=true'/></center>\n",
        "\n",
        "<br/>\n"
      ]
    },
    {
      "cell_type": "markdown",
      "metadata": {
        "id": "ZVC5728kRX7U"
      },
      "source": [
        "<h2 align='center'>Equation to calculate new weights</h2>\n",
        "<br/>\n",
        "<h2>\n",
        "\\begin{align}\n",
        "w_{t+1} =w_t - \\eta\\;\\cdot\\;\\frac{\\partial E_{total}}{\\partial w_t}\n",
        "\\end{align}\n",
        "</h2>\n",
        "\n",
        "---\n"
      ]
    },
    {
      "cell_type": "markdown",
      "metadata": {
        "id": "QOG5SuTE6Fup"
      },
      "source": [
        "<h2>Total Error:</h2>\n",
        "<h2>\n",
        "\\begin{align}\n",
        "E_{total} =\\frac{1}{2} \\sum_{i=1}^{n} (target_{o_i} - predicted_{o_i})^2\n",
        "\\end{align}\n",
        "</h2>\n",
        "<br/>\n",
        "\n",
        "\n",
        "<br/>\n",
        "<h2>change in error with respect to each output:</h2>\n",
        "\n",
        "<h2>\n",
        "\\begin{align}\n",
        "\\frac{\\partial E}{\\partial o_{i_{out}}} =(predicted_{o_i} - target_{o_i})\n",
        "\\end{align}\n",
        "</h2>"
      ]
    },
    {
      "cell_type": "code",
      "execution_count": null,
      "metadata": {
        "id": "tQKGnGNI4AiW"
      },
      "outputs": [],
      "source": [
        "# create class instance and get forward pass predictions\n"
      ]
    },
    {
      "cell_type": "code",
      "execution_count": null,
      "metadata": {
        "id": "oPM5bYO2DFfr"
      },
      "outputs": [],
      "source": [
        "# create a function to calculate the change in total error with\n",
        "# respect to the output of each node\n"
      ]
    },
    {
      "cell_type": "markdown",
      "metadata": {
        "id": "GhWGiBNb-w5W"
      },
      "source": [
        "<h2>\n",
        "\\begin{align}\n",
        "\\frac{\\partial o_{i_{out}}}{\\partial o_{i_{net}}} &= f(x) \\cdot (1-f(x)) \\\\\n",
        "&= o_{i_{out}} \\cdot (1-o_{i_{out}})\n",
        "\\end{align}\n",
        "</h2>"
      ]
    },
    {
      "cell_type": "code",
      "execution_count": null,
      "metadata": {
        "id": "vgt57leH_NIo"
      },
      "outputs": [],
      "source": [
        "# create a function to calculate the change in an OUTPUT node output with\n",
        "# respect to the net sum that is fed into the node's activation function\n"
      ]
    },
    {
      "cell_type": "markdown",
      "metadata": {
        "id": "4a1EXtPy_s5i"
      },
      "source": [
        "<h2>\n",
        "\\begin{align}\n",
        "\\frac{\\partial o_{i_{net}}}{\\partial w_j} &= h_k w_j\\\\\n",
        "&= h_k\n",
        "\\end{align}\n",
        "</h2>\n",
        "<br/>\n",
        "<h2><i>$w_5$ example:</i></h2>\n",
        "<h2>\n",
        "\\begin{align}\n",
        "o_{1_{net}} = h_1 w_5 + h_2 w_6 + b_2 w_{bo_1}\n",
        "\\end{align}\n",
        "</h2>\n",
        "<br/>\n",
        "<h2>\n",
        "\\begin{align}\n",
        "\\frac{\\partial o_{1_{net}}}{\\partial w_5}\n",
        "&= 1 \\cdot h_1 + 0 + 0\\\\\n",
        "&= h_1 \\\\\n",
        "\\end{align}\n",
        "</h2>\n",
        "<br/>\n",
        "\n",
        "---\n",
        "\n",
        "<br/>\n",
        "<h2>\n",
        "\\begin{align}\n",
        "\\frac{\\partial o_{net}}{\\partial w_{ol}}\n",
        "&=\n",
        "\\left[ \\begin{matrix}\\frac{\\partial o_{1_{net}}}{\\partial w_5} &\n",
        "\\frac{\\partial o_{2_{net}}}{\\partial w_7}  \\\\\n",
        "\\frac{\\partial o_{1_{net}}}{\\partial w_6} & \\frac{\\partial o_{2_{net}}}{\\partial w_8} \\\\\n",
        "\\frac{\\partial o_{1_{net}}}{\\partial w_{bo_1}} & \\frac{\\partial o_{2_{net}}}{\\partial w_{bo_2}} \\end{matrix} \\right] \\\\\n",
        "\\\\\n",
        "&=\n",
        "\\left[ \\begin{matrix} h_1 & h_1  \\\\\n",
        "h_2 & h_2 \\\\\n",
        "b & b \\end{matrix} \\right] \\\\\n",
        "\\end{align}\n",
        "\n",
        "</h2>"
      ]
    },
    {
      "cell_type": "code",
      "execution_count": null,
      "metadata": {
        "id": "RptA7ZTiA57r"
      },
      "outputs": [],
      "source": [
        "# get the hidden layer outputs from the network class\n",
        "\n",
        "\n",
        "# create a function to calculate the change in the net sum fed into a node with\n",
        "# respect to each weight connected to the respective node\n",
        "\n"
      ]
    },
    {
      "cell_type": "markdown",
      "metadata": {
        "id": "p6UQpc-TDdSg"
      },
      "source": [
        "<h2>\n",
        "\\begin{align}\n",
        "\\frac{\\partial E}{\\partial w_i} &=\\frac{\\partial E}{\\partial o_{j_{out}}} \\cdot \\frac{\\partial o_{j_{out}}}{\\partial o_{j_{net}}} \\cdot \\frac{\\partial o_{j_{net}}}{\\partial w_i} \\\\\n",
        "\\\\\n",
        "&=\\frac{\\partial E}{\\partial o_{j_{net}}} \\cdot \\frac{\\partial o_{j_{net}}}{\\partial w_i}\n",
        "\\end{align}\n",
        "</h2>\n",
        "<br/>\n",
        "<h2><i>$w_5$ example:</i></h2>\n",
        "<h2>\n",
        "\\begin{align}\n",
        "\\frac{\\partial E}{\\partial w_5} &=\\frac{\\partial E}{\\partial o_{1_{out}}} \\cdot \\frac{\\partial o_{1_{out}}}{\\partial o_{1_{net}}} \\cdot \\frac{\\partial o_{1_{net}}}{\\partial w_5} \\\\\n",
        "\\\\\n",
        "&=  \\frac{\\partial E}{\\partial o_{1_{net}}} \\cdot \\frac{\\partial o_{1_{net}}}{\\partial w_5}\n",
        "\\end{align}\n",
        "</h2>\n",
        "<br/>\n",
        "\n",
        "---\n",
        "\n",
        "<br/>\n",
        "<h2>\n",
        "\\begin{align}\n",
        "\\frac{\\partial E}{\\partial w_{ol}}\n",
        "&= \\left[ \\begin{matrix} \\frac{\\partial E}{\\partial o_{1_{out}}} \\cdot \\frac{\\partial o_{1_{out}}}{\\partial o_{1_{net}}} \\cdot \\frac{\\partial o_{1_{net}}}{\\partial w_5} &\n",
        "\\frac{\\partial E}{\\partial o_{2_{out}}} \\cdot \\frac{\\partial o_{2_{out}}}{\\partial o_{2_{net}}} \\cdot \\frac{\\partial o_{2_{net}}}{\\partial w_7}  \\\\\n",
        "\\frac{\\partial E}{\\partial o_{1_{out}}} \\cdot \\frac{\\partial o_{1_{out}}}{\\partial o_{1_{net}}} \\cdot \\frac{\\partial o_{1_{net}}}{\\partial w_6} & \\frac{\\partial E}{\\partial o_{2_{out}}} \\cdot \\frac{\\partial o_{2_{out}}}{\\partial o_{2_{net}}} \\cdot \\frac{\\partial o_{2_{net}}}{\\partial w_8} \\\\\n",
        "\\frac{\\partial E}{\\partial o_{1_{out}}} \\cdot \\frac{\\partial o_{1_{out}}}{\\partial o_{1_{net}}} \\cdot \\frac{\\partial o_{1_{net}}}{\\partial w_{bo_1}} & \\frac{\\partial E}{\\partial o_{2_{out}}} \\cdot \\frac{\\partial o_{2_{out}}}{\\partial o_{2_{net}}} \\cdot \\frac{\\partial o_{2_{net}}}{\\partial w_{bo_2}} \\end{matrix} \\right] \\\\\n",
        "\\\\\n",
        "&=\\left[ \\begin{matrix} \\frac{\\partial E}{\\partial o_{1_{net}}} \\cdot \\frac{\\partial o_{1_{net}}}{\\partial w_5} &\n",
        "\\frac{\\partial E}{\\partial o_{2_{net}}} \\cdot \\frac{\\partial o_{2_{net}}}{\\partial w_7}  \\\\\n",
        "\\frac{\\partial E}{\\partial o_{1_{net}}} \\cdot \\frac{\\partial o_{1_{net}}}{\\partial w_6} & \\frac{\\partial E}{\\partial o_{2_{net}}} \\cdot \\frac{\\partial o_{2_{net}}}{\\partial w_8} \\\\\n",
        "\\frac{\\partial E}{\\partial o_{1_{net}}} \\cdot \\frac{\\partial o_{1_{net}}}{\\partial w_{bo_1}} & \\frac{\\partial E}{\\partial o_{2_{net}}} \\cdot \\frac{\\partial o_{2_{net}}}{\\partial w_{bo_2}} \\end{matrix} \\right] \\\\\n",
        "\\\\\n",
        "&=\\left[  \\begin{matrix} h_1 \\\\ h_2 \\\\ b \\end{matrix} \\right] \\cdot\n",
        "\\left[  \\begin{matrix}\\frac{\\partial E}{\\partial o_{1_{net}}} & \\frac{\\partial E}{\\partial o_{2_{net}}}  \\end{matrix} \\right] \\\\\n",
        "\\end{align}\n",
        "</h2>"
      ]
    },
    {
      "cell_type": "code",
      "execution_count": null,
      "metadata": {
        "id": "6__Wb_b2DdwI"
      },
      "outputs": [],
      "source": [
        "# create a function to calculate the change in total error with\n",
        "# respect to the net sum that is fed into each node's activation function\n",
        "\n",
        "\n",
        "\n",
        "# create a function to calculate the change in total error with\n",
        "# respect to each weight connected to the output nodes\n"
      ]
    },
    {
      "cell_type": "markdown",
      "metadata": {
        "id": "P_ZEpXIRLNka"
      },
      "source": [
        "<h2>\n",
        "\\begin{align}\n",
        "w_{t+1} =w_t - \\eta\\;\\cdot\\;\\frac{\\partial E_{total}}{\\partial w_t}\n",
        "\\end{align}\n",
        "</h2>"
      ]
    },
    {
      "cell_type": "code",
      "execution_count": null,
      "metadata": {
        "id": "4Z8x9t9KLRrv"
      },
      "outputs": [],
      "source": [
        "# create a function to calculate the new weights that are connected\n",
        "# to the output layer\n"
      ]
    },
    {
      "cell_type": "markdown",
      "metadata": {
        "id": "RvPZSyN7DNQu"
      },
      "source": [
        "#The weights connected to the output layer are now updated!\n",
        "\n",
        "---"
      ]
    },
    {
      "cell_type": "markdown",
      "metadata": {
        "id": "NAr5IVZbAGOX"
      },
      "source": [
        "##Now let's update the weights connected to the hidden layer\n",
        "\n",
        "<br/>\n",
        "<center><img src='https://github.com/snsie/ai-webdev/blob/main/images/matt_backward_network.png?raw=true'/></center>"
      ]
    },
    {
      "cell_type": "markdown",
      "metadata": {
        "id": "XUl0q3JnHtH9"
      },
      "source": [
        "<h2>\n",
        "\\begin{align}\n",
        "\\frac{\\partial E}{\\partial h_{i_{out}}} = \\frac{\\partial E_{o_1}}{\\partial h_{i_{out}}} + \\frac{\\partial E_{o_2}}{\\partial h_{i_{out}}}\n",
        "\\end{align}\n",
        "</h2>\n",
        "<br/>\n",
        "\n",
        "---\n",
        "\n",
        "<br/>\n",
        "<h2>\n",
        "\\begin{align}\n",
        "\\left[  \\begin{matrix}\n",
        "\\frac{\\partial E}{\\partial h_{1_{out}}} \\\\\n",
        "\\frac{\\partial E}{\\partial h_{2_{out}}}\n",
        "\\end{matrix} \\right]\n",
        "&=\n",
        "\\left[  \\begin{matrix}\n",
        "\\frac{\\partial E_{o_1}}{\\partial h_{1_{out}}} + \\frac{\\partial E_{o_2}}{\\partial h_{1_{out}}} \\\\\n",
        "\\frac{\\partial E_{o_1}}{\\partial h_{2_{out}}} + \\frac{\\partial E_{o_2}}{\\partial h_{2_{out}}}\n",
        "\\end{matrix} \\right] \\\\ \\\\\n",
        "&=\n",
        "\\left[  \\begin{matrix}\n",
        "\\frac{\\partial E_{o_1}}{\\partial o_{1_{net}}} \\cdot \\frac{\\partial o_{1_{net}}}{\\partial h_{1_{out}}}  +\n",
        "\\frac{\\partial E_{o_2}}{\\partial o_{2_{net}}} \\cdot \\frac{\\partial o_{2_{net}}}{\\partial h_{1_{out}}}  \\\\\n",
        "\\frac{\\partial E_{o_1}}{\\partial o_{1_{net}}} \\cdot \\frac{\\partial o_{1_{net}}}{\\partial h_{2_{out}}}  +\n",
        "\\frac{\\partial E_{o_2}}{\\partial o_{2_{net}}} \\cdot \\frac{\\partial o_{2_{net}}}{\\partial h_{2_{out}}}\n",
        "\\end{matrix} \\right] \\\\ \\\\\n",
        "&=\n",
        "\\left[  \\begin{matrix}\n",
        "\\frac{\\partial E_{o_1}}{\\partial o_{1_{net}}} \\cdot w_5  +\n",
        "\\frac{\\partial E_{o_2}}{\\partial o_{2_{net}}} \\cdot w_7  \\\\\n",
        "\\frac{\\partial E_{o_1}}{\\partial o_{1_{net}}} \\cdot w_6  +\n",
        "\\frac{\\partial E_{o_2}}{\\partial o_{2_{net}}} \\cdot w_8\n",
        "\\end{matrix} \\right]\n",
        "\\end{align}\n",
        "</h2>"
      ]
    },
    {
      "cell_type": "code",
      "execution_count": null,
      "metadata": {
        "id": "fVtP_W7-IVrD"
      },
      "outputs": [],
      "source": [
        "# create a function to calculate the change in total error with\n",
        "# respect to each output in the hidden layer\n"
      ]
    },
    {
      "cell_type": "markdown",
      "metadata": {
        "id": "okG4-u9GQCAE"
      },
      "source": [
        "<h2>\n",
        "\\begin{align}\n",
        "\\frac{\\partial h_{i_{out}}}{\\partial h_{i_{net}}} &= f(x) \\cdot (1-f(x)) \\\\\n",
        "&= h_{i_{out}} \\cdot (1-h_{i_{out}})\n",
        "\\end{align}\n",
        "</h2>"
      ]
    },
    {
      "cell_type": "code",
      "execution_count": null,
      "metadata": {
        "id": "A73EmfOnPlIp"
      },
      "outputs": [],
      "source": [
        "# create a function to calculate the change in a HIDDEN node output with\n",
        "# respect to the net sum that is fed into the node's activation function\n"
      ]
    },
    {
      "cell_type": "markdown",
      "metadata": {
        "id": "Apc20rjzQUM2"
      },
      "source": [
        "<h2>\n",
        "\\begin{align}\n",
        "\\frac{\\partial h_{i_{net}}}{\\partial w_j} &= i_k w_j\\\\\n",
        "&= i_k\n",
        "\\end{align}\n",
        "</h2>\n",
        "<br/>\n",
        "<h2><i>$w_1$ example:</i></h2>\n",
        "<h2>\n",
        "\\begin{align}\n",
        "h_{1_{net}} = i_1 w_1 + i_2 w_2 + b_1 w_{bh_1}\n",
        "\\end{align}\n",
        "</h2>\n",
        "<br/>\n",
        "<h2>\n",
        "\\begin{align}\n",
        "\\frac{\\partial h_{1_{net}}}{\\partial w_1}\n",
        "&=  i_1\\cdot 1 + 0 + 0\\\\\n",
        "&= h_1 \\\\\n",
        "\\end{align}\n",
        "</h2>\n",
        "<br/>\n",
        "\n",
        "---\n",
        "\n",
        "<br/>\n",
        "<h2>\n",
        "\\begin{align}\n",
        "\\frac{\\partial h_{net}}{\\partial w_{hl}}\n",
        "&=\n",
        "\\left[ \\begin{matrix}\\frac{\\partial h_{1_{net}}}{\\partial w_1} &\n",
        "\\frac{\\partial h_{2_{net}}}{\\partial w_3}  \\\\\n",
        "\\frac{\\partial h_{1_{net}}}{\\partial w_2} & \\frac{\\partial h_{2_{net}}}{\\partial w_4} \\\\\n",
        "\\frac{\\partial h_{1_{net}}}{\\partial w_{bh_1}} & \\frac{\\partial h_{2_{net}}}{\\partial w_{bh_2}} \\end{matrix} \\right] \\\\\n",
        "\\\\\n",
        "&=\n",
        "\\left[ \\begin{matrix} i_1 & i_1  \\\\\n",
        "i_2 & i_2 \\\\\n",
        "b & b \\end{matrix} \\right] \\\\\n",
        "\\end{align}\n",
        "\n",
        "</h2>"
      ]
    },
    {
      "cell_type": "code",
      "execution_count": null,
      "metadata": {
        "id": "5vKFl1mPRamw"
      },
      "outputs": [],
      "source": [
        "# create a function to calculate the change in the net sum fed into each hidden\n",
        "# node with respect to each weight connected to the respective node\n"
      ]
    },
    {
      "cell_type": "markdown",
      "metadata": {
        "id": "0joP_P7ASU_3"
      },
      "source": [
        "<h2>\n",
        "\\begin{align}\n",
        "\\frac{\\partial E}{\\partial w_{hl_i}} &=\\frac{\\partial E}{\\partial h_{j_{out}}} \\cdot \\frac{\\partial h_{j_{out}}}{\\partial h_{j_{net}}} \\cdot \\frac{\\partial h_{j_{net}}}{\\partial w_i} \\\\\n",
        "\\\\\n",
        "&=\\frac{\\partial E}{\\partial h_{j_{net}}} \\cdot \\frac{\\partial h_{j_{net}}}{\\partial w_i}\n",
        "\\end{align}\n",
        "</h2>\n",
        "<br/>\n",
        "<h2><i>$w_1$ example:</i></h2>\n",
        "<h2>\n",
        "\\begin{align}\n",
        "\\frac{\\partial E}{\\partial w_1} &=\\frac{\\partial E}{\\partial h_{1_{out}}} \\cdot \\frac{\\partial h_{1_{out}}}{\\partial h_{1_{net}}} \\cdot \\frac{\\partial h_{1_{net}}}{\\partial w_1} \\\\\n",
        "\\\\\n",
        "&=  \\frac{\\partial E}{\\partial h_{1_{net}}} \\cdot \\frac{\\partial h_{1_{net}}}{\\partial w_1}\n",
        "\\end{align}\n",
        "</h2>\n",
        "<br/>\n",
        "\n",
        "---\n",
        "\n",
        "<br/>\n",
        "<h2>\n",
        "\\begin{align}\n",
        "\\frac{\\partial E}{\\partial w_{ol}}\n",
        "&= \\left[ \\begin{matrix} \\frac{\\partial E}{\\partial h_{1_{out}}} \\cdot \\frac{\\partial h_{1_{out}}}{\\partial h_{1_{net}}} \\cdot \\frac{\\partial h_{1_{net}}}{\\partial w_1} &\n",
        "\\frac{\\partial E}{\\partial h_{2_{out}}} \\cdot \\frac{\\partial h_{2_{out}}}{\\partial h_{2_{net}}} \\cdot \\frac{\\partial h_{2_{net}}}{\\partial w_3}  \\\\\n",
        "\\frac{\\partial E}{\\partial h_{1_{out}}} \\cdot \\frac{\\partial h_{1_{out}}}{\\partial h_{1_{net}}} \\cdot \\frac{\\partial h_{1_{net}}}{\\partial w_2} & \\frac{\\partial E}{\\partial h_{2_{out}}} \\cdot \\frac{\\partial h_{2_{out}}}{\\partial h_{2_{net}}} \\cdot \\frac{\\partial h_{2_{net}}}{\\partial w_4} \\\\\n",
        "\\frac{\\partial E}{\\partial h_{1_{out}}} \\cdot \\frac{\\partial h_{1_{out}}}{\\partial h_{1_{net}}} \\cdot \\frac{\\partial h_{1_{net}}}{\\partial w_{bh_1}} & \\frac{\\partial E}{\\partial h_{2_{out}}} \\cdot \\frac{\\partial h_{2_{out}}}{\\partial h_{2_{net}}} \\cdot \\frac{\\partial h_{2_{net}}}{\\partial w_{bh_2}} \\end{matrix} \\right] \\\\\n",
        "\\\\\n",
        "&=\\left[ \\begin{matrix} \\frac{\\partial E}{\\partial h_{1_{net}}} \\cdot \\frac{\\partial h_{1_{net}}}{\\partial w_1} &\n",
        "\\frac{\\partial E}{\\partial h_{2_{net}}} \\cdot \\frac{\\partial h_{2_{net}}}{\\partial w_3}  \\\\\n",
        "\\frac{\\partial E}{\\partial h_{1_{net}}} \\cdot \\frac{\\partial h_{1_{net}}}{\\partial w_2} & \\frac{\\partial E}{\\partial h_{2_{net}}} \\cdot \\frac{\\partial h_{2_{net}}}{\\partial w_4} \\\\\n",
        "\\frac{\\partial E}{\\partial h_{1_{net}}} \\cdot \\frac{\\partial h_{1_{net}}}{\\partial w_{bh_1}} & \\frac{\\partial E}{\\partial h_{2_{net}}} \\cdot \\frac{\\partial h_{2_{net}}}{\\partial w_{bh_2}} \\end{matrix} \\right] \\\\\n",
        "\\\\\n",
        "&=\\left[  \\begin{matrix} i_1 \\\\ i_2 \\\\ b \\end{matrix} \\right] \\cdot\n",
        "\\left[  \\begin{matrix}\\frac{\\partial E}{\\partial h_{1_{net}}} & \\frac{\\partial E}{\\partial h_{2_{net}}}  \\end{matrix} \\right] \\\\\n",
        "\\end{align}\n",
        "</h2>"
      ]
    },
    {
      "cell_type": "code",
      "execution_count": null,
      "metadata": {
        "id": "qdpHdIyKTy20"
      },
      "outputs": [],
      "source": [
        "# create a function to calculate the change in total error with\n",
        "# respect to the net sum that is fed into each node's activation function\n",
        "\n",
        "\n",
        "# create a function to calculate the change in total error with\n",
        "# respect to each weight connected to the hidden nodes\n"
      ]
    },
    {
      "cell_type": "markdown",
      "metadata": {
        "id": "KJSDb3IeVHNl"
      },
      "source": [
        "<h2>\n",
        "\\begin{align}\n",
        "w_{t+1} =w_t - \\eta\\;\\cdot\\;\\frac{\\partial E_{total}}{\\partial w_t}\n",
        "\\end{align}\n",
        "</h2>"
      ]
    },
    {
      "cell_type": "code",
      "execution_count": null,
      "metadata": {
        "id": "BerF6AaqVQ1v"
      },
      "outputs": [],
      "source": [
        "# create a function to calculate the new weights that are connected\n",
        "# to the hidden layer\n"
      ]
    },
    {
      "cell_type": "markdown",
      "metadata": {
        "id": "fhYIX2uMViBl"
      },
      "source": [
        "#We have completed the forward and backward passes of the network!\n",
        "\n",
        "###Now let's create a new class that can compute both passes of the network"
      ]
    },
    {
      "cell_type": "code",
      "execution_count": null,
      "metadata": {
        "id": "LUyDjjqg8lxk"
      },
      "outputs": [],
      "source": [
        "# create a new class that inherits the forward pass class and combines\n",
        "# the backward pass functions to create a reusable object that computes both\n",
        "# the forward and backward passes of the network\n"
      ]
    }
  ],
  "metadata": {
    "colab": {
      "provenance": []
    },
    "kernelspec": {
      "display_name": "Python 3.9.7 64-bit",
      "language": "python",
      "name": "python3"
    },
    "language_info": {
      "name": "python",
      "version": "3.9.7"
    },
    "orig_nbformat": 4,
    "vscode": {
      "interpreter": {
        "hash": "5974ac25dc9be56ffc04c26f1dcea484687dd3721d1ee5a9c3f4a235d03fe9b9"
      }
    }
  },
  "nbformat": 4,
  "nbformat_minor": 0
}
